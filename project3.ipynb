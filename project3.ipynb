{
 "cells": [
  {
   "cell_type": "code",
   "execution_count": 1,
   "metadata": {},
   "outputs": [],
   "source": [
    "import numpy as np\n",
    "import os\n",
    "import pandas as pd\n",
    "import glob"
   ]
  },
  {
   "cell_type": "code",
   "execution_count": 2,
   "metadata": {},
   "outputs": [
    {
     "data": {
      "text/plain": [
       "(853, 120, 250)"
      ]
     },
     "execution_count": 2,
     "metadata": {},
     "output_type": "execute_result"
    }
   ],
   "source": [
    "os.chdir('/storage/home/nxt5197/work/589_Machine_Learning/plots/data')\n",
    "power_matrix=np.load('power_matrix.npy')\n",
    "# power_matrix = np.reshape(powers,(853,120,250))\n",
    "import _pickle as cPickle\n",
    "power_matrix = cPickle.load( open( \"power_matrix.pkl\", \"rb\" ) )\n",
    "x_train = power_matrix#[:600]\n",
    "x_test = power_matrix#[600:]\n",
    "np.shape(x_train)"
   ]
  },
  {
   "cell_type": "code",
   "execution_count": 4,
   "metadata": {},
   "outputs": [
    {
     "name": "stdout",
     "output_type": "stream",
     "text": [
      "Model: \"model_1\"\n",
      "_________________________________________________________________\n",
      " Layer (type)                Output Shape              Param #   \n",
      "=================================================================\n",
      " input_2 (InputLayer)        [(None, 120, 250, 1)]     0         \n",
      "                                                                 \n",
      " conv2d_5 (Conv2D)           (None, 120, 250, 12)      120       \n",
      "                                                                 \n",
      " max_pooling2d_2 (MaxPooling  (None, 60, 125, 12)      0         \n",
      " 2D)                                                             \n",
      "                                                                 \n",
      " conv2d_6 (Conv2D)           (None, 60, 125, 8)        1544      \n",
      "                                                                 \n",
      " max_pooling2d_3 (MaxPooling  (None, 15, 25, 8)        0         \n",
      " 2D)                                                             \n",
      "                                                                 \n",
      " conv2d_7 (Conv2D)           (None, 15, 25, 8)         1032      \n",
      "                                                                 \n",
      " up_sampling2d_2 (UpSampling  (None, 30, 50, 8)        0         \n",
      " 2D)                                                             \n",
      "                                                                 \n",
      " conv2d_8 (Conv2D)           (None, 30, 50, 12)        876       \n",
      "                                                                 \n",
      " up_sampling2d_3 (UpSampling  (None, 120, 250, 12)     0         \n",
      " 2D)                                                             \n",
      "                                                                 \n",
      " conv2d_9 (Conv2D)           (None, 120, 250, 1)       109       \n",
      "                                                                 \n",
      "=================================================================\n",
      "Total params: 3,681\n",
      "Trainable params: 3,681\n",
      "Non-trainable params: 0\n",
      "_________________________________________________________________\n"
     ]
    }
   ],
   "source": [
    "import keras\n",
    "from keras import layers\n",
    "from keras.layers import Conv2D\n",
    "from keras.layers import Input\n",
    "from keras.layers import MaxPooling2D, UpSampling2D\n",
    "from keras.models import Model\n",
    "import tensorflow as tf\n",
    "import matplotlib.pyplot as plt\n",
    "from sklearn.metrics import accuracy_score, precision_score, recall_score\n",
    "from sklearn.model_selection import train_test_split\n",
    "from tensorflow.keras import layers, losses\n",
    "from tensorflow.keras.datasets import fashion_mnist\n",
    "from tensorflow.keras.models import Model\n",
    "\n",
    "x_train_1 = np.reshape(x_train, (len(x_train), 120, 250, 1))\n",
    "x_test_1 = np.reshape(x_test, (len(x_test), 120, 250, 1))\n",
    "\n",
    "input_img = keras.Input(shape=(120, 250, 1))\n",
    "\n",
    "enc_conv1 = Conv2D(12, (3, 3), activation='relu', padding='same')(input_img)\n",
    "enc_pool1 = MaxPooling2D((2, 2), padding='same')(enc_conv1)\n",
    "enc_conv2 = Conv2D(8, (4, 4), activation='relu', padding='same')(enc_pool1)\n",
    "enc_ouput = MaxPooling2D((4, 5), padding='same')(enc_conv2)\n",
    "\n",
    "dec_conv2 = Conv2D(8, (4, 4), activation='relu', padding='same')(enc_ouput)\n",
    "dec_upsample2 = UpSampling2D((2, 2))(dec_conv2)\n",
    "dec_conv3 = Conv2D(12, (3, 3), activation='relu', padding='same')(dec_upsample2)\n",
    "dec_upsample3 = UpSampling2D((4, 5))(dec_conv3)\n",
    "dec_output = Conv2D(1, (3, 3), activation='relu', padding='same')(dec_upsample3)\n",
    "\n",
    "autoencoder = Model(input_img, dec_output)\n",
    "my_optimizer = tf.keras.optimizers.Adam(learning_rate = 1e-5)\n",
    "# autoencoder.compile(optimizer='adam', loss='binary_crossentropy')\n",
    "autoencoder.compile(optimizer=my_optimizer, loss='binary_crossentropy')\n",
    "autoencoder.summary()"
   ]
  },
  {
   "cell_type": "code",
   "execution_count": 5,
   "metadata": {},
   "outputs": [
    {
     "name": "stdout",
     "output_type": "stream",
     "text": [
      "Epoch 1/100\n",
      "3/7 [===========>..................] - ETA: 5s - loss: 3.2545"
     ]
    }
   ],
   "source": [
    "epochs=100\n",
    "autoencoder_train = autoencoder.fit(x_train_1, x_test_1,\n",
    "                                    epochs=epochs,\n",
    "                                    batch_size=128,\n",
    "                                    shuffle=True)#,\n",
    "                                    # validation_data=(x_test_1, x_test_1))"
   ]
  }
 ],
 "metadata": {
  "interpreter": {
   "hash": "5d0bf28902ac81bb1b7a9c2ea25ecf72b842ed3044e3eeb8e8423190818d01bd"
  },
  "kernelspec": {
   "display_name": "Python 3.9.7 (conda)",
   "language": "python",
   "name": "python3"
  },
  "language_info": {
   "codemirror_mode": {
    "name": "ipython",
    "version": 3
   },
   "file_extension": ".py",
   "mimetype": "text/x-python",
   "name": "python",
   "nbconvert_exporter": "python",
   "pygments_lexer": "ipython3",
   "version": "3.9.7"
  },
  "orig_nbformat": 4
 },
 "nbformat": 4,
 "nbformat_minor": 2
}
